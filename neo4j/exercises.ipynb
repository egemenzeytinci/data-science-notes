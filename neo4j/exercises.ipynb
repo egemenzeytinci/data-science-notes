{
 "cells": [
  {
   "cell_type": "markdown",
   "metadata": {},
   "source": [
    "### Exercises"
   ]
  },
  {
   "cell_type": "markdown",
   "metadata": {},
   "source": [
    "#### Exercise-1\n",
    "\n",
    "Retrieve all `REVIEWED` relationships from the graph where the summary of the review contains the string fun, returning the movie title reviewed and the rating and summary of the relationship.\n",
    "\n",
    "```\n",
    "MATCH (:Person)-[r:REVIEWED]->(m:Movie)\n",
    "WHERE toLower(r.summary) CONTAINS 'fun'\n",
    "RETURN  m.title as Movie, r.summary as Review, r.rating as Rating\n",
    "```"
   ]
  },
  {
   "cell_type": "markdown",
   "metadata": {},
   "source": [
    "#### Exercise-2\n",
    "\n",
    "Retrieve all people who have produced a movie, but have not directed a movie, returning their names and the movie titles.\n",
    "\n",
    "```\n",
    "MATCH (a:Person)-[:PRODUCED]->(m:Movie)\n",
    "WHERE NOT ((a)-[:DIRECTED]->(:Movie))\n",
    "RETURN a.name, m.title\n",
    "```"
   ]
  },
  {
   "cell_type": "markdown",
   "metadata": {},
   "source": [
    "#### Exercise-3\n",
    "\n",
    "Retrieve the movies and their actors where one of the actors also directed the movie, returning the actors names, the director’s name, and the movie title.\n",
    "\n",
    "```\n",
    "MATCH (a1:Person)-[:ACTED_IN]->(m:Movie)<-[:ACTED_IN]-(a2:Person)\n",
    "WHERE exists((a2)-[:DIRECTED]->(m))\n",
    "RETURN  a1.name as Actor, a2.name as `Actor/Director`, m.title as Movie\n",
    "```"
   ]
  },
  {
   "cell_type": "markdown",
   "metadata": {},
   "source": [
    "#### Exercise-4\n",
    "\n",
    "Write a Cypher query that retrieves all movies that *Gene Hackman* has acted it, along with the directors of the movies. In addition, retrieve the actors that acted in the same movies as *Gene Hackman*. Return the name of the movie, the name of the director, and the names of actors that worked with *Gene Hackman*.\n",
    "\n",
    "```\n",
    "MATCH (a1:Person)-[:ACTED_IN]->(m:Movie)<-[:ACTED_IN]-(a2:Person)\n",
    "WHERE exists((a2)-[:DIRECTED]->(m))\n",
    "RETURN  a1.name as Actor, a2.name as `Actor/Director`, m.title as Movie\n",
    "```"
   ]
  },
  {
   "cell_type": "markdown",
   "metadata": {},
   "source": [
    "#### Exercise-5\n",
    "\n",
    "Retrieve all movies that *Tom Cruise* has acted in and the co-actors that acted in the same movie, returning the movie title and the list of co-actors that *Tom Cruise* worked with.\n",
    "\n",
    "```\n",
    "MATCH (p:Person)-[:ACTED_IN]->(m:Movie)<-[:ACTED_IN]-(p2:Person)\n",
    "WHERE p.name ='Tom Cruise'\n",
    "RETURN m.title as movie, collect(p2.name) AS `co-actors`\n",
    "```"
   ]
  },
  {
   "cell_type": "markdown",
   "metadata": {},
   "source": [
    "#### Exercise-6\n",
    "\n",
    "Retrieve the actors who have acted in exactly five movies, returning the name of the actor, and the list of movies for that actor.\n",
    "\n",
    "```\n",
    "MATCH (a:Person)-[:ACTED_IN]->(m:Movie)\n",
    "WITH  a, count(m) AS numMovies, collect(m.title) AS movies\n",
    "WHERE numMovies = 5\n",
    "RETURN a.name, movies\n",
    "```"
   ]
  },
  {
   "cell_type": "markdown",
   "metadata": {},
   "source": [
    "#### Exercise-7\n",
    "\n",
    "Write a Cypher query that retrieves all actors that acted in movies, and also retrieves the producers for those movies. During the query, collect the names of the actors and the names of the producers. Return the movie titles, along with the list of actors for each movie, and the list of producers for each movie making sure there is no duplication of data. Order the results returned based upon the size of the list of actors.\n",
    "\n",
    "```\n",
    "MATCH (a:Person)-[:ACTED_IN]->(m:Movie),\n",
    "      (m)<-[:PRODUCED]-(p:Person)\n",
    "WITH  m, collect(DISTINCT a.name) AS cast, collect(DISTINCT p.name) AS producers\n",
    "RETURN DISTINCT m.title, cast, producers\n",
    "ORDER BY size(cast)\n",
    "```"
   ]
  },
  {
   "cell_type": "markdown",
   "metadata": {},
   "source": [
    "#### Exercise-8\n",
    "\n",
    "Write a Cypher query that retrieves all actors that acted in movies, and collects the list of movies for any actor that acted in more than five movies. Return the name of the actor and the list.\n",
    "\n",
    "```\n",
    "MATCH (p:Person)-[:ACTED_IN]->(m:Movie)\n",
    "WITH p, collect(m) AS movies\n",
    "WHERE size(movies)  > 5\n",
    "RETURN p.name, movies\n",
    "```\n",
    "\n",
    "Modify the query you just wrote so that before the query processing ends, you unwind the list of movies and then return the name of the actor and the title of the associated movie.\n",
    "\n",
    "```\n",
    "MATCH (p:Person)-[:ACTED_IN]->(m:Movie)\n",
    "WITH p, collect(m) AS movies\n",
    "WHERE size(movies)  > 5\n",
    "WITH p, movies UNWIND movies AS movie\n",
    "RETURN p.name, movie.title\n",
    "```"
   ]
  },
  {
   "cell_type": "markdown",
   "metadata": {},
   "source": [
    "#### Exercise-9\n",
    "\n",
    "Add the label *OlderMovie* to any Movie node that was released before 2010.\n",
    "\n",
    "```\n",
    "MATCH (m:Movie)\n",
    "WHERE m.released < 2010\n",
    "SET m:OlderMovie\n",
    "RETURN DISTINCT labels(m)\n",
    "```"
   ]
  },
  {
   "cell_type": "markdown",
   "metadata": {},
   "source": [
    "#### Exercise-10\n",
    "\n",
    "Create the *ACTED_IN* relationship between the actors, *Robin Wright*, *Tom Hanks*, and *Gary Sinise* and the movie, *Forrest Gump*.\n",
    "\n",
    "```\n",
    "MATCH (m:Movie)\n",
    "WHERE m.title = 'Forrest Gump'\n",
    "MATCH (p:Person)\n",
    "WHERE p.name = 'Tom Hanks' OR p.name = 'Robin Wright' OR p.name = 'Gary Sinise'\n",
    "CREATE (p)-[:ACTED_IN]->(m)\n",
    "```\n",
    "xxxxxxxxxxxxxxxxxxxxxxxxxxxxxxxxxxxxxxxxxxxxxxxxxxxxxxxxxxxxxxxxxxxxxxxxxxxxxxxxxxxxxxxxxxxxxxxxxxxxxxxxxxxxx\n",
    "```\n",
    "MATCH (p:Person), (m:Movie)\n",
    "WHERE p.name IN ['Tom Hanks','Gary Sinise', 'Robin Wright']\n",
    "      AND m.title = 'Forrest Gump'\n",
    "MERGE (p)-[:ACTED_IN]->(m)\n",
    "```"
   ]
  },
  {
   "cell_type": "markdown",
   "metadata": {},
   "source": [
    "#### Exercise-11\n",
    "\n",
    "Add the roles property to the three *ACTED_IN* relationships that you just created to the movie, *Forrest Gump* using this information: *Tom Hanks* played the role, *Forrest Gump*. *Robin Wright* played the role, *Jenny Curran*. *Gary Sinise* played the role, *Lieutenant Dan Taylor*.\n",
    "\n",
    "```\n",
    "MATCH (p:Person)-[rel:ACTED_IN]->(m:Movie)\n",
    "WHERE m.title = 'Forrest Gump'\n",
    "SET rel.roles =\n",
    "CASE p.name\n",
    "  WHEN 'Tom Hanks' THEN ['Forrest Gump']\n",
    "  WHEN 'Robin Wright' THEN ['Jenny Curran']\n",
    "  WHEN 'Gary Sinise' THEN ['Lieutenant Dan Taylor']\n",
    "END\n",
    "```"
   ]
  },
  {
   "cell_type": "markdown",
   "metadata": {},
   "source": [
    "#### Exercise-12\n",
    "\n",
    "Use `MERGE` to create (`ON CREATE`) a node of type *Movie* with the title property, *Forrest Gump*. If created, set the released property to 1994.\n",
    "\n",
    "```\n",
    "MERGE (m:Movie {title: 'Forrest Gump'})\n",
    "ON CREATE SET m.released = 1994\n",
    "RETURN m\n",
    "```"
   ]
  },
  {
   "cell_type": "markdown",
   "metadata": {},
   "source": [
    "#### Exercise-13\n",
    "\n",
    "Use `MERGE` to update (`ON MATCH`) a node of type Movie with the title property, *Forrest Gump*. If found, set the tagline property to \"Life is like a box of chocolates… you never know what you’re gonna get.\".\n",
    "\n",
    "```\n",
    "MERGE (m:Movie {title: 'Forrest Gump'})\n",
    "ON CREATE SET m.released = 1994\n",
    "ON MATCH SET m.tagline = \"Life is like a box of chocolates...you never know what you're gonna get.\"\n",
    "RETURN m\n",
    "```"
   ]
  },
  {
   "cell_type": "markdown",
   "metadata": {},
   "source": [
    "#### Exercise-14\n",
    "\n",
    "Add a parameter named year to your session with a value of 2000.\n",
    "\n",
    "```\n",
    ":param year => 2000\n",
    "```\n",
    "\n",
    "Write and execute a Cypher query that returns the names of people who reviewed movies and the actors in these movies by returning the name of the reviewer, the movie title reviewed, the release date of the movie, the rating given to the movie by the reviewer, and the list of actors for that particular movie. Also use the *year* parameter in this query.\n",
    "\n",
    "```\n",
    "MATCH (r:Person)-[rel:REVIEWED]->(m:Movie)<-[:ACTED_IN]-(a:Person)\n",
    "WHERE m.released = $year\n",
    "RETURN  DISTINCT r.name, m.title, m.released, rel.rating, collect(a.name)\n",
    "```\n",
    "\n",
    "Add a parameter named *ratingValue* to your session with a value of 65. Also, change the *year* parameter from 2000 to 2006.\n",
    "\n",
    "```\n",
    ":params {year: 2006, ratingValue: 65}\n",
    "```\n",
    "\n",
    "Modify the query you wrote previously to also filter the result returned by the *rating* for the movie.\n",
    "\n",
    "```\n",
    "MATCH (r:Person)-[rel:REVIEWED]->(m:Movie)<-[:ACTED_IN]-(a:Person)\n",
    "WHERE m.released = $year AND\n",
    "      rel.rating > $ratingValue\n",
    "RETURN  DISTINCT r.name, m.title, m.released, rel.rating, collect(a.name)\n",
    "```"
   ]
  }
 ],
 "metadata": {
  "kernelspec": {
   "display_name": "Python 3",
   "language": "python",
   "name": "python3"
  },
  "language_info": {
   "codemirror_mode": {
    "name": "ipython",
    "version": 3
   },
   "file_extension": ".py",
   "mimetype": "text/x-python",
   "name": "python",
   "nbconvert_exporter": "python",
   "pygments_lexer": "ipython3",
   "version": "3.6.5"
  }
 },
 "nbformat": 4,
 "nbformat_minor": 4
}
