{
 "cells": [
  {
   "cell_type": "code",
   "execution_count": 2,
   "metadata": {
    "ExecuteTime": {
     "end_time": "2019-11-26T08:30:20.035767Z",
     "start_time": "2019-11-26T08:30:19.804512Z"
    }
   },
   "outputs": [
    {
     "data": {
      "text/plain": [
       "import org.apache.spark.sql.functions.udf\n",
       "import org.joda.time.{DateTime, Days}\n"
      ]
     },
     "execution_count": 2,
     "metadata": {},
     "output_type": "execute_result"
    }
   ],
   "source": [
    "import org.apache.spark.sql.functions.udf\n",
    "import org.joda.time.{DateTime, Days}"
   ]
  },
  {
   "cell_type": "code",
   "execution_count": 3,
   "metadata": {
    "ExecuteTime": {
     "end_time": "2019-11-26T08:30:21.541932Z",
     "start_time": "2019-11-26T08:30:20.590156Z"
    }
   },
   "outputs": [
    {
     "data": {
      "text/plain": [
       "BASE_PATH: String = file:///Users/ytu-egemen-zeytinci/Lessons/spark_scala_tutorial/data\n",
       "mapping: org.apache.spark.sql.DataFrame = [trivago_code: string, cosmos_code: string]\n",
       "prices: org.apache.spark.sql.DataFrame = [code: string, check_in: string ... 5 more fields]\n"
      ]
     },
     "execution_count": 3,
     "metadata": {},
     "output_type": "execute_result"
    }
   ],
   "source": [
    "val BASE_PATH = \"file:///Users/ytu-egemen-zeytinci/Lessons/spark_scala_tutorial/data\"\n",
    "val mapping = spark.read.option(\"header\", \"true\").csv(s\"${BASE_PATH}/trivago_mapping.csv\")\n",
    "val prices = spark.read.option(\"header\", \"true\").csv(s\"${BASE_PATH}/trivago_prices.csv\")"
   ]
  },
  {
   "cell_type": "code",
   "execution_count": 4,
   "metadata": {
    "ExecuteTime": {
     "end_time": "2019-11-26T08:30:22.181706Z",
     "start_time": "2019-11-26T08:30:21.748596Z"
    }
   },
   "outputs": [
    {
     "name": "stdout",
     "output_type": "stream",
     "text": [
      "+------------+-----------+\n",
      "|trivago_code|cosmos_code|\n",
      "+------------+-----------+\n",
      "|      100000|     1133fc|\n",
      "|     1000001|     13239e|\n",
      "|    10000022|     1e6c78|\n",
      "|     1000005|     13e9d2|\n",
      "|     1000005|     1a6005|\n",
      "+------------+-----------+\n",
      "only showing top 5 rows\n",
      "\n"
     ]
    }
   ],
   "source": [
    "mapping.show(5)"
   ]
  },
  {
   "cell_type": "code",
   "execution_count": 5,
   "metadata": {
    "ExecuteTime": {
     "end_time": "2019-11-26T08:30:25.103557Z",
     "start_time": "2019-11-26T08:30:24.747169Z"
    }
   },
   "outputs": [
    {
     "name": "stdout",
     "output_type": "stream",
     "text": [
      "+-------+----------+----------+---+---+------+-----------+\n",
      "|   code|  check_in| check_out|pos|pax| price|create_date|\n",
      "+-------+----------+----------+---+---+------+-----------+\n",
      "|1000005|2019-10-23|2019-10-27| ph|  2| 59.16| 2019-10-21|\n",
      "|1000005|2019-11-12|2019-11-15| us|2,4|160.27| 2019-10-21|\n",
      "|1000005|2020-02-28|2020-03-06| ca|  1|    72| 2019-11-06|\n",
      "|1000005|2020-02-28|2020-03-06| ca|  2|    72| 2019-11-06|\n",
      "|1000005|2020-04-09|2020-04-12| ph|3,4|187.56| 2019-11-01|\n",
      "+-------+----------+----------+---+---+------+-----------+\n",
      "only showing top 5 rows\n",
      "\n"
     ]
    }
   ],
   "source": [
    "prices.show(5)"
   ]
  },
  {
   "cell_type": "code",
   "execution_count": 7,
   "metadata": {
    "ExecuteTime": {
     "end_time": "2019-11-26T08:31:10.521122Z",
     "start_time": "2019-11-26T08:31:10.131992Z"
    }
   },
   "outputs": [
    {
     "data": {
      "text/plain": [
       "columns: List[org.apache.spark.sql.Column] = List(cosmos_code, check_in, check_out, pos, pax, price, create_date)\n",
       "merged: org.apache.spark.sql.DataFrame = [cosmos_code: string, check_in: string ... 5 more fields]\n"
      ]
     },
     "execution_count": 7,
     "metadata": {},
     "output_type": "execute_result"
    }
   ],
   "source": [
    "val columns = List(\n",
    "    col(\"cosmos_code\"), \n",
    "    col(\"check_in\"), \n",
    "    col(\"check_out\"), \n",
    "    col(\"pos\"), \n",
    "    col(\"pax\"), \n",
    "    col(\"price\"), \n",
    "    col(\"create_date\")\n",
    ")\n",
    "val merged = mapping.alias(\"m\")\n",
    "    .join(prices.alias(\"p\"), col(\"p.code\") === col(\"m.trivago_code\"))\n",
    "    .select(columns: _*)"
   ]
  },
  {
   "cell_type": "code",
   "execution_count": 84,
   "metadata": {
    "ExecuteTime": {
     "end_time": "2019-11-24T19:06:00.265562Z",
     "start_time": "2019-11-24T19:06:00.026965Z"
    }
   },
   "outputs": [
    {
     "data": {
      "text/plain": [
       "uniqueColumns: List[String] = List(cosmos_code, check_in, check_out, pos, pax, create_date)\n",
       "dropped: org.apache.spark.sql.Dataset[org.apache.spark.sql.Row] = [cosmos_code: string, check_in: string ... 5 more fields]\n"
      ]
     },
     "execution_count": 84,
     "metadata": {},
     "output_type": "execute_result"
    }
   ],
   "source": [
    "val uniqueColumns = List[String](\n",
    "    \"cosmos_code\", \n",
    "    \"check_in\", \n",
    "    \"check_out\", \n",
    "    \"pos\", \n",
    "    \"pax\",\n",
    "    \"create_date\"\n",
    ")\n",
    "val dropped = merged.dropDuplicates(uniqueColumns)"
   ]
  },
  {
   "cell_type": "code",
   "execution_count": 85,
   "metadata": {
    "ExecuteTime": {
     "end_time": "2019-11-24T19:06:10.745537Z",
     "start_time": "2019-11-24T19:06:07.279452Z"
    }
   },
   "outputs": [
    {
     "name": "stdout",
     "output_type": "stream",
     "text": [
      "+-----------+----------+----------+---+---+------+-----------+\n",
      "|cosmos_code|  check_in| check_out|pos|pax| price|create_date|\n",
      "+-----------+----------+----------+---+---+------+-----------+\n",
      "|     14ba0e|2019-10-24|2019-10-26| ES|  2| 63.89| 2019-10-10|\n",
      "|     1e4fdf|2020-06-27|2020-07-09| ES|  2|149.82| 2019-10-10|\n",
      "|     192ddc|2019-10-20|2019-10-21| FR|  2|122.49| 2019-10-10|\n",
      "|     193cda|2019-10-24|2019-10-27| FR|  2|111.16| 2019-10-10|\n",
      "|     13705c|2019-11-09|2019-11-10| IT|2,2|109.88| 2019-10-10|\n",
      "+-----------+----------+----------+---+---+------+-----------+\n",
      "only showing top 5 rows\n",
      "\n"
     ]
    }
   ],
   "source": [
    "dropped.show(5)"
   ]
  },
  {
   "cell_type": "code",
   "execution_count": 86,
   "metadata": {
    "ExecuteTime": {
     "end_time": "2019-11-24T19:06:13.363646Z",
     "start_time": "2019-11-24T19:06:13.168164Z"
    }
   },
   "outputs": [
    {
     "data": {
      "text/plain": [
       "res19: org.apache.spark.sql.types.StructType = StructType(StructField(cosmos_code,StringType,true), StructField(check_in,StringType,true), StructField(check_out,StringType,true), StructField(pos,StringType,true), StructField(pax,StringType,true), StructField(price,StringType,true), StructField(create_date,StringType,true))\n"
      ]
     },
     "execution_count": 86,
     "metadata": {},
     "output_type": "execute_result"
    }
   ],
   "source": [
    "dropped.schema"
   ]
  },
  {
   "cell_type": "code",
   "execution_count": 14,
   "metadata": {
    "ExecuteTime": {
     "end_time": "2019-11-26T08:34:51.316729Z",
     "start_time": "2019-11-26T08:34:51.155359Z"
    }
   },
   "outputs": [
    {
     "data": {
      "text/plain": [
       "findTotal: (price: Double, checkIn: String, checkOut: String)Double\n"
      ]
     },
     "execution_count": 14,
     "metadata": {},
     "output_type": "execute_result"
    }
   ],
   "source": [
    "def findTotal(price: Double, checkIn: String, checkOut: String): Double = {\n",
    "    val ci = DateTime.parse(checkIn)\n",
    "    val co = DateTime.parse(checkOut)\n",
    "    \n",
    "    price * Days.daysBetween(ci, co).getDays\n",
    "}"
   ]
  },
  {
   "cell_type": "code",
   "execution_count": 12,
   "metadata": {
    "ExecuteTime": {
     "end_time": "2019-11-26T08:32:57.783031Z",
     "start_time": "2019-11-26T08:32:57.202028Z"
    }
   },
   "outputs": [
    {
     "data": {
      "text/plain": [
       "totalUDF: org.apache.spark.sql.expressions.UserDefinedFunction = UserDefinedFunction(<function3>,DoubleType,Some(List(DoubleType, StringType, StringType)))\n"
      ]
     },
     "execution_count": 12,
     "metadata": {},
     "output_type": "execute_result"
    }
   ],
   "source": [
    "val totalUDF = udf[Double, Double, String, String](findTotal)"
   ]
  },
  {
   "cell_type": "code",
   "execution_count": 95,
   "metadata": {
    "ExecuteTime": {
     "end_time": "2019-11-24T19:18:52.264612Z",
     "start_time": "2019-11-24T19:18:52.026442Z"
    }
   },
   "outputs": [
    {
     "data": {
      "text/plain": [
       "newDF: org.apache.spark.sql.DataFrame = [cosmos_code: string, check_in: string ... 6 more fields]\n"
      ]
     },
     "execution_count": 95,
     "metadata": {},
     "output_type": "execute_result"
    }
   ],
   "source": [
    "val newDF = dropped.withColumn(\"totalPrice\", totalUDF(col(\"price\"), col(\"check_in\"), col(\"check_out\")))"
   ]
  },
  {
   "cell_type": "code",
   "execution_count": 13,
   "metadata": {
    "ExecuteTime": {
     "end_time": "2019-11-26T08:33:14.034804Z",
     "start_time": "2019-11-26T08:33:13.793464Z"
    }
   },
   "outputs": [
    {
     "data": {
      "text/plain": [
       "lower: String => String = <function1>\n"
      ]
     },
     "execution_count": 13,
     "metadata": {},
     "output_type": "execute_result"
    }
   ],
   "source": [
    "val lower: String => String = _.toLowerCase"
   ]
  },
  {
   "cell_type": "code",
   "execution_count": 97,
   "metadata": {
    "ExecuteTime": {
     "end_time": "2019-11-24T19:18:58.439062Z",
     "start_time": "2019-11-24T19:18:58.228326Z"
    }
   },
   "outputs": [
    {
     "data": {
      "text/plain": [
       "lowerUDF: org.apache.spark.sql.expressions.UserDefinedFunction = UserDefinedFunction(<function1>,StringType,Some(List(StringType)))\n"
      ]
     },
     "execution_count": 97,
     "metadata": {},
     "output_type": "execute_result"
    }
   ],
   "source": [
    "val lowerUDF = udf(lower)"
   ]
  },
  {
   "cell_type": "code",
   "execution_count": 98,
   "metadata": {
    "ExecuteTime": {
     "end_time": "2019-11-24T19:19:41.701041Z",
     "start_time": "2019-11-24T19:19:41.511029Z"
    }
   },
   "outputs": [
    {
     "data": {
      "text/plain": [
       "lastDF: org.apache.spark.sql.DataFrame = [cosmos_code: string, check_in: string ... 6 more fields]\n"
      ]
     },
     "execution_count": 98,
     "metadata": {},
     "output_type": "execute_result"
    }
   ],
   "source": [
    "val lastDF = newDF.withColumn(\"pos\", lowerUDF(col(\"pos\")))"
   ]
  },
  {
   "cell_type": "code",
   "execution_count": 99,
   "metadata": {
    "ExecuteTime": {
     "end_time": "2019-11-24T19:19:49.306755Z",
     "start_time": "2019-11-24T19:19:47.355146Z"
    },
    "scrolled": true
   },
   "outputs": [
    {
     "name": "stdout",
     "output_type": "stream",
     "text": [
      "+-----------+----------+----------+---+---+------+-----------+----------+\n",
      "|cosmos_code|  check_in| check_out|pos|pax| price|create_date|totalPrice|\n",
      "+-----------+----------+----------+---+---+------+-----------+----------+\n",
      "|     14ba0e|2019-10-24|2019-10-26| es|  2| 63.89| 2019-10-10|    127.78|\n",
      "|     1e4fdf|2020-06-27|2020-07-09| es|  2|149.82| 2019-10-10|   1797.84|\n",
      "|     192ddc|2019-10-20|2019-10-21| fr|  2|122.49| 2019-10-10|    122.49|\n",
      "|     193cda|2019-10-24|2019-10-27| fr|  2|111.16| 2019-10-10|    333.48|\n",
      "|     13705c|2019-11-09|2019-11-10| it|2,2|109.88| 2019-10-10|    109.88|\n",
      "+-----------+----------+----------+---+---+------+-----------+----------+\n",
      "only showing top 5 rows\n",
      "\n"
     ]
    }
   ],
   "source": [
    "lastDF.show(5)"
   ]
  }
 ],
 "metadata": {
  "kernelspec": {
   "display_name": "spylon-kernel",
   "language": "scala",
   "name": "spylon-kernel"
  },
  "language_info": {
   "codemirror_mode": "text/x-scala",
   "file_extension": ".scala",
   "help_links": [
    {
     "text": "MetaKernel Magics",
     "url": "https://metakernel.readthedocs.io/en/latest/source/README.html"
    }
   ],
   "mimetype": "text/x-scala",
   "name": "scala",
   "pygments_lexer": "scala",
   "version": "0.4.1"
  },
  "toc": {
   "base_numbering": 1,
   "nav_menu": {},
   "number_sections": true,
   "sideBar": true,
   "skip_h1_title": false,
   "title_cell": "Table of Contents",
   "title_sidebar": "Contents",
   "toc_cell": false,
   "toc_position": {},
   "toc_section_display": true,
   "toc_window_display": false
  }
 },
 "nbformat": 4,
 "nbformat_minor": 2
}
