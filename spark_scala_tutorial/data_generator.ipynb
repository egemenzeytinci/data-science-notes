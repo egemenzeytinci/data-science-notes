{
 "cells": [
  {
   "cell_type": "code",
   "execution_count": 2,
   "metadata": {
    "ExecuteTime": {
     "end_time": "2019-11-17T20:32:51.618873Z",
     "start_time": "2019-11-17T20:32:50.495365Z"
    }
   },
   "outputs": [],
   "source": [
    "import os\n",
    "import pandas as pd\n",
    "import random"
   ]
  },
  {
   "cell_type": "code",
   "execution_count": 2,
   "metadata": {
    "ExecuteTime": {
     "end_time": "2019-11-17T19:57:26.558322Z",
     "start_time": "2019-11-17T19:57:26.553577Z"
    }
   },
   "outputs": [],
   "source": [
    "path = '/tmp/example/'\n",
    "os.mkdir(path)\n",
    "\n",
    "if not os.path.exists(path):\n",
    "    print('Folder could not create!')"
   ]
  },
  {
   "cell_type": "code",
   "execution_count": 3,
   "metadata": {
    "ExecuteTime": {
     "end_time": "2019-11-17T19:57:36.377668Z",
     "start_time": "2019-11-17T19:57:26.560344Z"
    }
   },
   "outputs": [],
   "source": [
    "nums = range(1, 1000, 1)\n",
    "clusters = list('abcde')\n",
    "\n",
    "num_col = []\n",
    "cluster_col = []\n",
    "\n",
    "for i in range(1, 1000000):\n",
    "    num_col.append(random.choice(nums))\n",
    "    cluster_col.append(random.choice(clusters))\n",
    "    \n",
    "    if i % 100000 == 0:\n",
    "        df = pd.DataFrame({'cluster': cluster_col, 'number': num_col})\n",
    "        df.to_csv(f'{path}{i}.csv', index=False)"
   ]
  },
  {
   "cell_type": "code",
   "execution_count": 6,
   "metadata": {
    "ExecuteTime": {
     "end_time": "2019-11-17T20:34:34.077513Z",
     "start_time": "2019-11-17T20:34:34.055509Z"
    }
   },
   "outputs": [],
   "source": [
    "a_path = '/tmp/adata/'\n",
    "b_path = '/tmp/bdata/'\n",
    "\n",
    "os.mkdir(a_path)\n",
    "os.mkdir(b_path)\n",
    "\n",
    "ids = range(1, 1000, 1)\n",
    "names = ['George', 'Max', 'John', 'Ivan']\n",
    "ages = range(20, 50)\n",
    "\n",
    "id_col = []\n",
    "name_col = []\n",
    "age_col = []\n",
    "\n",
    "for i in range(1, 1000):\n",
    "    id_col.append(random.choice(ids))\n",
    "    name_col.append(random.choice(names))\n",
    "    age_col.append(random.choice(ages))\n",
    "    \n",
    "df_a = pd.DataFrame({'id': id_col, 'name': name_col})\n",
    "df_b = pd.DataFrame({'id': id_col, 'age': age_col})\n",
    "df_a.to_csv(f'{a_path}a.csv', index=False)\n",
    "df_b.to_csv(f'{b_path}b.csv', index=False)"
   ]
  }
 ],
 "metadata": {
  "kernelspec": {
   "display_name": "Python 3",
   "language": "python",
   "name": "python3"
  },
  "language_info": {
   "codemirror_mode": {
    "name": "ipython",
    "version": 3
   },
   "file_extension": ".py",
   "mimetype": "text/x-python",
   "name": "python",
   "nbconvert_exporter": "python",
   "pygments_lexer": "ipython3",
   "version": "3.6.5"
  },
  "toc": {
   "base_numbering": 1,
   "nav_menu": {},
   "number_sections": true,
   "sideBar": true,
   "skip_h1_title": false,
   "title_cell": "Table of Contents",
   "title_sidebar": "Contents",
   "toc_cell": false,
   "toc_position": {},
   "toc_section_display": true,
   "toc_window_display": false
  }
 },
 "nbformat": 4,
 "nbformat_minor": 2
}
