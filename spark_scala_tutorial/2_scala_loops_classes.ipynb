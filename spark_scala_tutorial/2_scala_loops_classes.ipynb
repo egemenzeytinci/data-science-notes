{
 "cells": [
  {
   "cell_type": "markdown",
   "metadata": {},
   "source": [
    "#### Loops"
   ]
  },
  {
   "cell_type": "code",
   "execution_count": 1,
   "metadata": {
    "ExecuteTime": {
     "end_time": "2019-11-16T18:53:29.177089Z",
     "start_time": "2019-11-16T18:53:21.799024Z"
    }
   },
   "outputs": [
    {
     "data": {
      "text/plain": [
       "Intitializing Scala interpreter ..."
      ]
     },
     "metadata": {},
     "output_type": "display_data"
    },
    {
     "data": {
      "text/plain": [
       "Spark Web UI available at http://192.168.8.105:4042\n",
       "SparkContext available as 'sc' (version = 2.2.1, master = local[*], app id = local-1573930403810)\n",
       "SparkSession available as 'spark'\n"
      ]
     },
     "metadata": {},
     "output_type": "display_data"
    },
    {
     "name": "stdout",
     "output_type": "stream",
     "text": [
      "0\n",
      "1\n",
      "2\n",
      "3\n",
      "4\n",
      "5\n",
      "6\n",
      "7\n",
      "8\n",
      "9\n",
      "10\n"
     ]
    }
   ],
   "source": [
    "for (i <- 0 to 10) {\n",
    "    println(i)\n",
    "}"
   ]
  },
  {
   "cell_type": "code",
   "execution_count": 5,
   "metadata": {
    "ExecuteTime": {
     "end_time": "2019-11-16T18:54:34.667740Z",
     "start_time": "2019-11-16T18:54:34.164565Z"
    }
   },
   "outputs": [
    {
     "name": "stdout",
     "output_type": "stream",
     "text": [
      "1\n",
      "2\n",
      "3\n",
      "4\n",
      "5\n"
     ]
    },
    {
     "data": {
      "text/plain": [
       "items: List[Int] = List(1, 2, 3, 4, 5)\n"
      ]
     },
     "execution_count": 5,
     "metadata": {},
     "output_type": "execute_result"
    }
   ],
   "source": [
    "var items = List(1, 2, 3, 4, 5);\n",
    "\n",
    "for(item <- items) {\n",
    "    println(item)\n",
    "}"
   ]
  },
  {
   "cell_type": "markdown",
   "metadata": {},
   "source": [
    "#### Classes"
   ]
  },
  {
   "cell_type": "markdown",
   "metadata": {},
   "source": [
    "##### Trait\n",
    "Traits are used to share interfaces and fields between classes. They are similar to Java 8’s interfaces. Classes and objects can extend traits but traits cannot be instantiated and therefore have no parameters.\n",
    "- Similar to interfaces\n",
    "- Supports multiple inheritance\n",
    "- Able to use fields\n",
    "- Can be generic\n",
    "- Able to use abstract methods or non-abstract methods\n",
    "- Cannot be initialized"
   ]
  },
  {
   "cell_type": "code",
   "execution_count": 7,
   "metadata": {
    "ExecuteTime": {
     "end_time": "2019-11-16T18:56:40.002035Z",
     "start_time": "2019-11-16T18:56:39.868425Z"
    }
   },
   "outputs": [
    {
     "data": {
      "text/plain": [
       "defined trait Color\n"
      ]
     },
     "execution_count": 7,
     "metadata": {},
     "output_type": "execute_result"
    }
   ],
   "source": [
    "trait Color {\n",
    "   def name(): String\n",
    "    \n",
    "   def fill()\n",
    "}"
   ]
  },
  {
   "cell_type": "code",
   "execution_count": 10,
   "metadata": {
    "ExecuteTime": {
     "end_time": "2019-11-16T18:57:46.061458Z",
     "start_time": "2019-11-16T18:57:45.854056Z"
    }
   },
   "outputs": [
    {
     "data": {
      "text/plain": [
       "import scala.util.Random\n",
       "defined trait User\n"
      ]
     },
     "execution_count": 10,
     "metadata": {},
     "output_type": "execute_result"
    }
   ],
   "source": [
    "import scala.util.Random\n",
    "\n",
    "trait User {\n",
    "   def age(): Int\n",
    "\n",
    "   def randId(): Int = {\n",
    "       Random.nextInt();\n",
    "   }\n",
    "}"
   ]
  },
  {
   "cell_type": "markdown",
   "metadata": {},
   "source": [
    "##### Abstract class\n",
    "The working of the Scala abstract class is similar to Java abstract class. In Scala, an abstract class is constructed using the abstract keyword. It contains both abstract and non-abstract methods and cannot support multiple inheritances.\n",
    "\n",
    "- Cannot use fields\n",
    "- Can be generic\n",
    "- Does not support multiple inheritance\n",
    "- Able to use constructor parameter\n",
    "- Able to use abstract methods or define methods\n",
    "- Cannot be initialized"
   ]
  },
  {
   "cell_type": "code",
   "execution_count": 11,
   "metadata": {
    "ExecuteTime": {
     "end_time": "2019-11-16T18:59:17.656272Z",
     "start_time": "2019-11-16T18:59:17.465749Z"
    }
   },
   "outputs": [
    {
     "data": {
      "text/plain": [
       "defined class Car\n"
      ]
     },
     "execution_count": 11,
     "metadata": {},
     "output_type": "execute_result"
    }
   ],
   "source": [
    "abstract class Car(serialCode: String) {\n",
    "    def model(): String\n",
    "    \n",
    "    def numberOfWheel(): Int = 4   \n",
    "}"
   ]
  },
  {
   "cell_type": "markdown",
   "metadata": {
    "ExecuteTime": {
     "end_time": "2019-11-16T18:59:43.071264Z",
     "start_time": "2019-11-16T18:59:43.004117Z"
    }
   },
   "source": [
    "##### Class\n",
    "A Scala class is a template for Scala objects. That means, that a class defines what information objects of that class holds, and what behaviour (methods) it exposes.\n",
    "- Cannot use fields\n",
    "- Can be generic\n",
    "- Able to use constructor parameter\n",
    "- Cannot define abstract method\n",
    "- Can be initialized"
   ]
  },
  {
   "cell_type": "code",
   "execution_count": 17,
   "metadata": {
    "ExecuteTime": {
     "end_time": "2019-11-16T19:04:25.786502Z",
     "start_time": "2019-11-16T19:04:25.548864Z"
    }
   },
   "outputs": [
    {
     "data": {
      "text/plain": [
       "defined class Activity\n"
      ]
     },
     "execution_count": 17,
     "metadata": {},
     "output_type": "execute_result"
    }
   ],
   "source": [
    "class Activity(name: String = \"page_view\") {\n",
    "    private[this] val PI: Double = 3.14\n",
    "\n",
    "    def emit(record: Map[String, String]): Unit = {\n",
    "        println(s\"Emitted ${name}\")\n",
    "    }\n",
    "}"
   ]
  },
  {
   "cell_type": "markdown",
   "metadata": {},
   "source": [
    "##### Object\n",
    "It is a basic unit of Object Oriented Programming and represents the real-life entities. A typical Scala program creates many objects, which as you know, interact by invoking methods.\n",
    "- Able to use fields\n",
    "- Cannot be generic\n",
    "- Cannot use constructor parameter\n",
    "- Cannot define abstract method\n",
    "- Cannot be initialized"
   ]
  },
  {
   "cell_type": "code",
   "execution_count": 20,
   "metadata": {
    "ExecuteTime": {
     "end_time": "2019-11-16T19:07:06.852828Z",
     "start_time": "2019-11-16T19:07:06.666881Z"
    }
   },
   "outputs": [
    {
     "data": {
      "text/plain": [
       "defined class Point\n",
       "defined object Demo\n"
      ]
     },
     "execution_count": 20,
     "metadata": {},
     "output_type": "execute_result"
    }
   ],
   "source": [
    "class Point(val xc: Int, val yc: Int) {\n",
    "   var x: Int = xc\n",
    "   var y: Int = yc\n",
    "   \n",
    "   def move(dx: Int, dy: Int) {\n",
    "      x = x + dx\n",
    "      y = y + dy\n",
    "      println (\"Point x location : \" + x);\n",
    "      println (\"Point y location : \" + y);\n",
    "   }\n",
    "}\n",
    "\n",
    "object Demo {\n",
    "   def main(args: Array[String]) {\n",
    "      val pt = new Point(10, 20);\n",
    "\n",
    "      pt.move(10, 10);\n",
    "   }\n",
    "}"
   ]
  }
 ],
 "metadata": {
  "kernelspec": {
   "display_name": "spylon-kernel",
   "language": "scala",
   "name": "spylon-kernel"
  },
  "language_info": {
   "codemirror_mode": "text/x-scala",
   "file_extension": ".scala",
   "help_links": [
    {
     "text": "MetaKernel Magics",
     "url": "https://metakernel.readthedocs.io/en/latest/source/README.html"
    }
   ],
   "mimetype": "text/x-scala",
   "name": "scala",
   "pygments_lexer": "scala",
   "version": "0.4.1"
  },
  "toc": {
   "base_numbering": 1,
   "nav_menu": {},
   "number_sections": true,
   "sideBar": true,
   "skip_h1_title": false,
   "title_cell": "Table of Contents",
   "title_sidebar": "Contents",
   "toc_cell": false,
   "toc_position": {},
   "toc_section_display": true,
   "toc_window_display": false
  }
 },
 "nbformat": 4,
 "nbformat_minor": 2
}
