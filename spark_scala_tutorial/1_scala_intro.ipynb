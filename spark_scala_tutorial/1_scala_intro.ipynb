{
 "cells": [
  {
   "cell_type": "markdown",
   "metadata": {},
   "source": [
    "#### Variables"
   ]
  },
  {
   "cell_type": "code",
   "execution_count": 1,
   "metadata": {
    "ExecuteTime": {
     "end_time": "2019-11-16T17:37:20.058459Z",
     "start_time": "2019-11-16T17:37:13.069111Z"
    }
   },
   "outputs": [
    {
     "data": {
      "text/plain": [
       "Intitializing Scala interpreter ..."
      ]
     },
     "metadata": {},
     "output_type": "display_data"
    },
    {
     "data": {
      "text/plain": [
       "Spark Web UI available at http://192.168.8.105:4041\n",
       "SparkContext available as 'sc' (version = 2.2.1, master = local[*], app id = local-1573925835332)\n",
       "SparkSession available as 'spark'\n"
      ]
     },
     "metadata": {},
     "output_type": "display_data"
    },
    {
     "data": {
      "text/plain": [
       "res0: String = hello\n"
      ]
     },
     "execution_count": 1,
     "metadata": {},
     "output_type": "execute_result"
    }
   ],
   "source": [
    "\"hello  \".trim"
   ]
  },
  {
   "cell_type": "code",
   "execution_count": 2,
   "metadata": {
    "ExecuteTime": {
     "end_time": "2019-11-16T17:37:20.349412Z",
     "start_time": "2019-11-16T17:37:20.061183Z"
    }
   },
   "outputs": [
    {
     "data": {
      "text/plain": [
       "res1: String = HELLO\n"
      ]
     },
     "execution_count": 2,
     "metadata": {},
     "output_type": "execute_result"
    }
   ],
   "source": [
    "\"hello\".toUpperCase"
   ]
  },
  {
   "cell_type": "code",
   "execution_count": 3,
   "metadata": {
    "ExecuteTime": {
     "end_time": "2019-11-16T17:37:20.583317Z",
     "start_time": "2019-11-16T17:37:20.351737Z"
    }
   },
   "outputs": [
    {
     "data": {
      "text/plain": [
       "res2: String = hello\n"
      ]
     },
     "execution_count": 3,
     "metadata": {},
     "output_type": "execute_result"
    }
   ],
   "source": [
    "\"HELLO\".toLowerCase"
   ]
  },
  {
   "cell_type": "code",
   "execution_count": 4,
   "metadata": {
    "ExecuteTime": {
     "end_time": "2019-11-16T17:37:21.024545Z",
     "start_time": "2019-11-16T17:37:20.585821Z"
    }
   },
   "outputs": [
    {
     "data": {
      "text/plain": [
       "res3: String = he\n"
      ]
     },
     "execution_count": 4,
     "metadata": {},
     "output_type": "execute_result"
    }
   ],
   "source": [
    "\"hello\".take(2)"
   ]
  },
  {
   "cell_type": "code",
   "execution_count": 5,
   "metadata": {
    "ExecuteTime": {
     "end_time": "2019-11-16T17:37:21.250445Z",
     "start_time": "2019-11-16T17:37:21.026349Z"
    }
   },
   "outputs": [
    {
     "data": {
      "text/plain": [
       "res4: Int = 11\n"
      ]
     },
     "execution_count": 5,
     "metadata": {},
     "output_type": "execute_result"
    }
   ],
   "source": [
    "\"hello world\".length"
   ]
  },
  {
   "cell_type": "code",
   "execution_count": 6,
   "metadata": {
    "ExecuteTime": {
     "end_time": "2019-11-16T17:37:21.715929Z",
     "start_time": "2019-11-16T17:37:21.253040Z"
    }
   },
   "outputs": [
    {
     "data": {
      "text/plain": [
       "res5: Array[String] = Array(hello, world)\n"
      ]
     },
     "execution_count": 6,
     "metadata": {},
     "output_type": "execute_result"
    }
   ],
   "source": [
    "\"hello world\".split(\" \")"
   ]
  },
  {
   "cell_type": "code",
   "execution_count": 7,
   "metadata": {
    "ExecuteTime": {
     "end_time": "2019-11-16T17:37:21.874370Z",
     "start_time": "2019-11-16T17:37:21.718089Z"
    }
   },
   "outputs": [
    {
     "data": {
      "text/plain": [
       "res6: String = hellO wOrld\n"
      ]
     },
     "execution_count": 7,
     "metadata": {},
     "output_type": "execute_result"
    }
   ],
   "source": [
    "\"hello world\".replace(\"o\", \"O\")"
   ]
  },
  {
   "cell_type": "code",
   "execution_count": 8,
   "metadata": {
    "ExecuteTime": {
     "end_time": "2019-11-16T17:37:22.127663Z",
     "start_time": "2019-11-16T17:37:21.877493Z"
    }
   },
   "outputs": [
    {
     "data": {
      "text/plain": [
       "res7: String = h&m\n"
      ]
     },
     "execution_count": 8,
     "metadata": {},
     "output_type": "execute_result"
    }
   ],
   "source": [
    "\"h m\".replaceAll(\"(.*?)[\\\\s]+(.*?)\", \"$1&$2\")"
   ]
  },
  {
   "cell_type": "code",
   "execution_count": 9,
   "metadata": {
    "ExecuteTime": {
     "end_time": "2019-11-16T17:37:22.414043Z",
     "start_time": "2019-11-16T17:37:22.131645Z"
    }
   },
   "outputs": [
    {
     "data": {
      "text/plain": [
       "res8: String = HE\n"
      ]
     },
     "execution_count": 9,
     "metadata": {},
     "output_type": "execute_result"
    }
   ],
   "source": [
    "\" hello \".toUpperCase.trim.take(2)"
   ]
  },
  {
   "cell_type": "code",
   "execution_count": 10,
   "metadata": {
    "ExecuteTime": {
     "end_time": "2019-11-16T17:37:22.606931Z",
     "start_time": "2019-11-16T17:37:22.416190Z"
    }
   },
   "outputs": [
    {
     "data": {
      "text/plain": [
       "res9: Int = 11\n"
      ]
     },
     "execution_count": 10,
     "metadata": {},
     "output_type": "execute_result"
    }
   ],
   "source": [
    "(\"hello\" + \" \" + \"world\").length "
   ]
  },
  {
   "cell_type": "code",
   "execution_count": 11,
   "metadata": {
    "ExecuteTime": {
     "end_time": "2019-11-16T17:37:22.767710Z",
     "start_time": "2019-11-16T17:37:22.608868Z"
    }
   },
   "outputs": [
    {
     "data": {
      "text/plain": [
       "res10: Boolean = true\n"
      ]
     },
     "execution_count": 11,
     "metadata": {},
     "output_type": "execute_result"
    }
   ],
   "source": [
    "\"user1\".endsWith(\"1\")"
   ]
  },
  {
   "cell_type": "code",
   "execution_count": 12,
   "metadata": {
    "ExecuteTime": {
     "end_time": "2019-11-16T17:37:22.917452Z",
     "start_time": "2019-11-16T17:37:22.769809Z"
    }
   },
   "outputs": [
    {
     "data": {
      "text/plain": [
       "res11: Boolean = false\n"
      ]
     },
     "execution_count": 12,
     "metadata": {},
     "output_type": "execute_result"
    }
   ],
   "source": [
    "\"user1\".endsWith(\"a\")"
   ]
  },
  {
   "cell_type": "markdown",
   "metadata": {},
   "source": [
    "##### Casting primitive types"
   ]
  },
  {
   "cell_type": "code",
   "execution_count": 13,
   "metadata": {
    "ExecuteTime": {
     "end_time": "2019-11-16T17:37:23.098998Z",
     "start_time": "2019-11-16T17:37:22.920148Z"
    }
   },
   "outputs": [
    {
     "data": {
      "text/plain": [
       "a: String = 12\n",
       "b: Int = 12\n"
      ]
     },
     "execution_count": 13,
     "metadata": {},
     "output_type": "execute_result"
    }
   ],
   "source": [
    "val a = \"12\"\n",
    "val b = a.toInt"
   ]
  },
  {
   "cell_type": "markdown",
   "metadata": {},
   "source": [
    "#### Collections"
   ]
  },
  {
   "cell_type": "markdown",
   "metadata": {},
   "source": [
    "##### List\n",
    "- immutable"
   ]
  },
  {
   "cell_type": "code",
   "execution_count": 14,
   "metadata": {
    "ExecuteTime": {
     "end_time": "2019-11-16T17:37:23.513114Z",
     "start_time": "2019-11-16T17:37:23.148061Z"
    }
   },
   "outputs": [
    {
     "data": {
      "text/plain": [
       "list: List[Int] = List(1, 2, 3)\n"
      ]
     },
     "execution_count": 14,
     "metadata": {},
     "output_type": "execute_result"
    }
   ],
   "source": [
    "val list = List(1, 2, 3)"
   ]
  },
  {
   "cell_type": "code",
   "execution_count": 15,
   "metadata": {
    "ExecuteTime": {
     "end_time": "2019-11-16T17:37:23.717373Z",
     "start_time": "2019-11-16T17:37:23.515448Z"
    }
   },
   "outputs": [
    {
     "data": {
      "text/plain": [
       "res12: Int = 3\n"
      ]
     },
     "execution_count": 15,
     "metadata": {},
     "output_type": "execute_result"
    }
   ],
   "source": [
    "list.length"
   ]
  },
  {
   "cell_type": "code",
   "execution_count": 16,
   "metadata": {
    "ExecuteTime": {
     "end_time": "2019-11-16T17:37:23.925682Z",
     "start_time": "2019-11-16T17:37:23.719666Z"
    }
   },
   "outputs": [
    {
     "data": {
      "text/plain": [
       "res13: Int = 1\n"
      ]
     },
     "execution_count": 16,
     "metadata": {},
     "output_type": "execute_result"
    }
   ],
   "source": [
    "list(0)"
   ]
  },
  {
   "cell_type": "code",
   "execution_count": 17,
   "metadata": {
    "ExecuteTime": {
     "end_time": "2019-11-16T17:37:24.122019Z",
     "start_time": "2019-11-16T17:37:23.927892Z"
    }
   },
   "outputs": [
    {
     "data": {
      "text/plain": [
       "res14: Int = 1\n"
      ]
     },
     "execution_count": 17,
     "metadata": {},
     "output_type": "execute_result"
    }
   ],
   "source": [
    "list.head"
   ]
  },
  {
   "cell_type": "code",
   "execution_count": 18,
   "metadata": {
    "ExecuteTime": {
     "end_time": "2019-11-16T17:37:24.361562Z",
     "start_time": "2019-11-16T17:37:24.124142Z"
    }
   },
   "outputs": [
    {
     "data": {
      "text/plain": [
       "res15: List[Int] = List(2, 3)\n"
      ]
     },
     "execution_count": 18,
     "metadata": {},
     "output_type": "execute_result"
    }
   ],
   "source": [
    "list.tail"
   ]
  },
  {
   "cell_type": "code",
   "execution_count": 19,
   "metadata": {
    "ExecuteTime": {
     "end_time": "2019-11-16T17:37:24.584325Z",
     "start_time": "2019-11-16T17:37:24.363370Z"
    }
   },
   "outputs": [
    {
     "data": {
      "text/plain": [
       "extended: List[Int] = List(0, 1, 2, 3)\n"
      ]
     },
     "execution_count": 19,
     "metadata": {},
     "output_type": "execute_result"
    }
   ],
   "source": [
    "val extended = 0 :: list"
   ]
  },
  {
   "cell_type": "code",
   "execution_count": 20,
   "metadata": {
    "ExecuteTime": {
     "end_time": "2019-11-16T17:37:24.889467Z",
     "start_time": "2019-11-16T17:37:24.586454Z"
    }
   },
   "outputs": [
    {
     "data": {
      "text/plain": [
       "extended: List[Int] = List(1, 2, 3, 4)\n"
      ]
     },
     "execution_count": 20,
     "metadata": {},
     "output_type": "execute_result"
    }
   ],
   "source": [
    "val extended = list :+ 4"
   ]
  },
  {
   "cell_type": "code",
   "execution_count": 21,
   "metadata": {
    "ExecuteTime": {
     "end_time": "2019-11-16T17:37:25.071950Z",
     "start_time": "2019-11-16T17:37:24.891623Z"
    }
   },
   "outputs": [
    {
     "data": {
      "text/plain": [
       "res16: Int = 0\n"
      ]
     },
     "execution_count": 21,
     "metadata": {},
     "output_type": "execute_result"
    }
   ],
   "source": [
    "list.indexOf(1)"
   ]
  },
  {
   "cell_type": "code",
   "execution_count": 22,
   "metadata": {
    "ExecuteTime": {
     "end_time": "2019-11-16T17:37:25.299250Z",
     "start_time": "2019-11-16T17:37:25.074193Z"
    }
   },
   "outputs": [
    {
     "data": {
      "text/plain": [
       "res17: List[Int] = List(1, 2)\n"
      ]
     },
     "execution_count": 22,
     "metadata": {},
     "output_type": "execute_result"
    }
   ],
   "source": [
    "list.slice(0, 2)"
   ]
  },
  {
   "cell_type": "code",
   "execution_count": 23,
   "metadata": {
    "ExecuteTime": {
     "end_time": "2019-11-16T17:37:25.644906Z",
     "start_time": "2019-11-16T17:37:25.305587Z"
    }
   },
   "outputs": [
    {
     "data": {
      "text/plain": [
       "res18: Int = 6\n"
      ]
     },
     "execution_count": 23,
     "metadata": {},
     "output_type": "execute_result"
    }
   ],
   "source": [
    "list.sum"
   ]
  },
  {
   "cell_type": "code",
   "execution_count": 24,
   "metadata": {
    "ExecuteTime": {
     "end_time": "2019-11-16T17:37:25.907393Z",
     "start_time": "2019-11-16T17:37:25.650189Z"
    }
   },
   "outputs": [
    {
     "data": {
      "text/plain": [
       "res19: Int = 3\n"
      ]
     },
     "execution_count": 24,
     "metadata": {},
     "output_type": "execute_result"
    }
   ],
   "source": [
    "list.max"
   ]
  },
  {
   "cell_type": "code",
   "execution_count": 25,
   "metadata": {
    "ExecuteTime": {
     "end_time": "2019-11-16T17:37:26.104367Z",
     "start_time": "2019-11-16T17:37:25.909615Z"
    }
   },
   "outputs": [
    {
     "data": {
      "text/plain": [
       "res20: String = 1,2,3\n"
      ]
     },
     "execution_count": 25,
     "metadata": {},
     "output_type": "execute_result"
    }
   ],
   "source": [
    "list.mkString(\",\") "
   ]
  },
  {
   "cell_type": "code",
   "execution_count": 26,
   "metadata": {
    "ExecuteTime": {
     "end_time": "2019-11-16T17:37:26.305961Z",
     "start_time": "2019-11-16T17:37:26.106504Z"
    }
   },
   "outputs": [
    {
     "data": {
      "text/plain": [
       "res21: List[Int] = List(1, 2, 3)\n"
      ]
     },
     "execution_count": 26,
     "metadata": {},
     "output_type": "execute_result"
    }
   ],
   "source": [
    "list.sorted"
   ]
  },
  {
   "cell_type": "markdown",
   "metadata": {},
   "source": [
    "##### Mutable List"
   ]
  },
  {
   "cell_type": "code",
   "execution_count": 27,
   "metadata": {
    "ExecuteTime": {
     "end_time": "2019-11-16T17:37:26.516528Z",
     "start_time": "2019-11-16T17:37:26.307989Z"
    }
   },
   "outputs": [
    {
     "data": {
      "text/plain": [
       "import scala.collection.mutable.ListBuffer\n",
       "list: scala.collection.mutable.ListBuffer[Int] = ListBuffer()\n"
      ]
     },
     "execution_count": 27,
     "metadata": {},
     "output_type": "execute_result"
    }
   ],
   "source": [
    "import scala.collection.mutable.ListBuffer\n",
    "\n",
    "val list = new ListBuffer[Int]()"
   ]
  },
  {
   "cell_type": "code",
   "execution_count": 28,
   "metadata": {
    "ExecuteTime": {
     "end_time": "2019-11-16T17:37:26.728986Z",
     "start_time": "2019-11-16T17:37:26.518267Z"
    }
   },
   "outputs": [],
   "source": [
    "list.append(1)"
   ]
  },
  {
   "cell_type": "code",
   "execution_count": 29,
   "metadata": {
    "ExecuteTime": {
     "end_time": "2019-11-16T17:37:26.905791Z",
     "start_time": "2019-11-16T17:37:26.731014Z"
    }
   },
   "outputs": [
    {
     "data": {
      "text/plain": [
       "res23: scala.collection.mutable.ListBuffer[Int] = ListBuffer(1)\n"
      ]
     },
     "execution_count": 29,
     "metadata": {},
     "output_type": "execute_result"
    }
   ],
   "source": [
    "list"
   ]
  },
  {
   "cell_type": "code",
   "execution_count": 30,
   "metadata": {
    "ExecuteTime": {
     "end_time": "2019-11-16T17:37:27.128034Z",
     "start_time": "2019-11-16T17:37:26.908353Z"
    }
   },
   "outputs": [
    {
     "data": {
      "text/plain": [
       "res24: list.type = ListBuffer(1, 2)\n"
      ]
     },
     "execution_count": 30,
     "metadata": {},
     "output_type": "execute_result"
    }
   ],
   "source": [
    "list += 2"
   ]
  },
  {
   "cell_type": "code",
   "execution_count": 31,
   "metadata": {
    "ExecuteTime": {
     "end_time": "2019-11-16T17:37:27.330752Z",
     "start_time": "2019-11-16T17:37:27.130310Z"
    }
   },
   "outputs": [],
   "source": [
    "list.appendAll(List(0, 2))"
   ]
  },
  {
   "cell_type": "code",
   "execution_count": 32,
   "metadata": {
    "ExecuteTime": {
     "end_time": "2019-11-16T17:37:27.550345Z",
     "start_time": "2019-11-16T17:37:27.332655Z"
    }
   },
   "outputs": [
    {
     "data": {
      "text/plain": [
       "res26: scala.collection.mutable.ListBuffer[Int] = ListBuffer(1, 2, 0, 2)\n"
      ]
     },
     "execution_count": 32,
     "metadata": {},
     "output_type": "execute_result"
    }
   ],
   "source": [
    "list"
   ]
  },
  {
   "cell_type": "code",
   "execution_count": 33,
   "metadata": {
    "ExecuteTime": {
     "end_time": "2019-11-16T17:37:27.781154Z",
     "start_time": "2019-11-16T17:37:27.553408Z"
    }
   },
   "outputs": [],
   "source": [
    "list.prepend(-1)"
   ]
  },
  {
   "cell_type": "code",
   "execution_count": 34,
   "metadata": {
    "ExecuteTime": {
     "end_time": "2019-11-16T17:37:27.991136Z",
     "start_time": "2019-11-16T17:37:27.783383Z"
    }
   },
   "outputs": [
    {
     "data": {
      "text/plain": [
       "res28: scala.collection.mutable.ListBuffer[Int] = ListBuffer(-1, 1, 2, 0, 2)\n"
      ]
     },
     "execution_count": 34,
     "metadata": {},
     "output_type": "execute_result"
    }
   ],
   "source": [
    "list"
   ]
  },
  {
   "cell_type": "code",
   "execution_count": 35,
   "metadata": {
    "ExecuteTime": {
     "end_time": "2019-11-16T17:37:28.224314Z",
     "start_time": "2019-11-16T17:37:27.993156Z"
    }
   },
   "outputs": [
    {
     "data": {
      "text/plain": [
       "res29: scala.collection.mutable.ListBuffer[Int] = ListBuffer(-1, 1, 2, 0)\n"
      ]
     },
     "execution_count": 35,
     "metadata": {},
     "output_type": "execute_result"
    }
   ],
   "source": [
    "list.distinct"
   ]
  },
  {
   "cell_type": "code",
   "execution_count": 36,
   "metadata": {
    "ExecuteTime": {
     "end_time": "2019-11-16T17:37:28.411996Z",
     "start_time": "2019-11-16T17:37:28.226440Z"
    }
   },
   "outputs": [
    {
     "data": {
      "text/plain": [
       "res30: Int = -1\n"
      ]
     },
     "execution_count": 36,
     "metadata": {},
     "output_type": "execute_result"
    }
   ],
   "source": [
    "list.remove(0)"
   ]
  },
  {
   "cell_type": "code",
   "execution_count": 37,
   "metadata": {
    "ExecuteTime": {
     "end_time": "2019-11-16T17:37:28.630232Z",
     "start_time": "2019-11-16T17:37:28.413582Z"
    }
   },
   "outputs": [
    {
     "data": {
      "text/plain": [
       "res31: scala.collection.mutable.ListBuffer[Int] = ListBuffer(1, 2, 0, 2)\n"
      ]
     },
     "execution_count": 37,
     "metadata": {},
     "output_type": "execute_result"
    }
   ],
   "source": [
    "list"
   ]
  },
  {
   "cell_type": "markdown",
   "metadata": {},
   "source": [
    "##### Map\n",
    "- immutable"
   ]
  },
  {
   "cell_type": "code",
   "execution_count": 38,
   "metadata": {
    "ExecuteTime": {
     "end_time": "2019-11-16T17:37:28.832200Z",
     "start_time": "2019-11-16T17:37:28.638560Z"
    }
   },
   "outputs": [
    {
     "data": {
      "text/plain": [
       "map: scala.collection.immutable.Map[String,Int] = Map()\n"
      ]
     },
     "execution_count": 38,
     "metadata": {},
     "output_type": "execute_result"
    }
   ],
   "source": [
    "val map = Map[String, Int]()"
   ]
  },
  {
   "cell_type": "code",
   "execution_count": 39,
   "metadata": {
    "ExecuteTime": {
     "end_time": "2019-11-16T17:37:29.118773Z",
     "start_time": "2019-11-16T17:37:28.834601Z"
    }
   },
   "outputs": [
    {
     "data": {
      "text/plain": [
       "m: scala.collection.immutable.Map[String,Int] = Map(id -> 1)\n"
      ]
     },
     "execution_count": 39,
     "metadata": {},
     "output_type": "execute_result"
    }
   ],
   "source": [
    "var m = Map[String, Int](\"id\" -> 1)"
   ]
  },
  {
   "cell_type": "code",
   "execution_count": 40,
   "metadata": {
    "ExecuteTime": {
     "end_time": "2019-11-16T17:37:29.397849Z",
     "start_time": "2019-11-16T17:37:29.120704Z"
    }
   },
   "outputs": [],
   "source": [
    "m += (\"age\" -> 4)"
   ]
  },
  {
   "cell_type": "code",
   "execution_count": 41,
   "metadata": {
    "ExecuteTime": {
     "end_time": "2019-11-16T17:37:29.528759Z",
     "start_time": "2019-11-16T17:37:29.399968Z"
    }
   },
   "outputs": [
    {
     "data": {
      "text/plain": [
       "res33: scala.collection.immutable.Map[String,Int] = Map(id -> 1, age -> 4)\n"
      ]
     },
     "execution_count": 41,
     "metadata": {},
     "output_type": "execute_result"
    }
   ],
   "source": [
    "m"
   ]
  },
  {
   "cell_type": "code",
   "execution_count": 42,
   "metadata": {
    "ExecuteTime": {
     "end_time": "2019-11-16T17:37:29.687358Z",
     "start_time": "2019-11-16T17:37:29.530881Z"
    }
   },
   "outputs": [
    {
     "data": {
      "text/plain": [
       "res34: Option[Int] = Some(1)\n"
      ]
     },
     "execution_count": 42,
     "metadata": {},
     "output_type": "execute_result"
    }
   ],
   "source": [
    "m.get(\"id\")"
   ]
  },
  {
   "cell_type": "code",
   "execution_count": 43,
   "metadata": {
    "ExecuteTime": {
     "end_time": "2019-11-16T17:37:29.922732Z",
     "start_time": "2019-11-16T17:37:29.689554Z"
    }
   },
   "outputs": [
    {
     "data": {
      "text/plain": [
       "id: Int = 1\n"
      ]
     },
     "execution_count": 43,
     "metadata": {},
     "output_type": "execute_result"
    }
   ],
   "source": [
    "val id = m.getOrElse(\"id\", 0)"
   ]
  },
  {
   "cell_type": "code",
   "execution_count": 44,
   "metadata": {
    "ExecuteTime": {
     "end_time": "2019-11-16T17:37:30.118052Z",
     "start_time": "2019-11-16T17:37:29.925028Z"
    }
   },
   "outputs": [],
   "source": [
    "m -= \"age\""
   ]
  },
  {
   "cell_type": "code",
   "execution_count": 45,
   "metadata": {
    "ExecuteTime": {
     "end_time": "2019-11-16T17:37:30.252831Z",
     "start_time": "2019-11-16T17:37:30.120162Z"
    }
   },
   "outputs": [
    {
     "data": {
      "text/plain": [
       "res36: Iterable[String] = Set(id)\n"
      ]
     },
     "execution_count": 45,
     "metadata": {},
     "output_type": "execute_result"
    }
   ],
   "source": [
    "m.keys"
   ]
  },
  {
   "cell_type": "markdown",
   "metadata": {},
   "source": [
    "##### Mutable Map"
   ]
  },
  {
   "cell_type": "code",
   "execution_count": 46,
   "metadata": {
    "ExecuteTime": {
     "end_time": "2019-11-16T17:37:30.438124Z",
     "start_time": "2019-11-16T17:37:30.255104Z"
    }
   },
   "outputs": [
    {
     "data": {
      "text/plain": [
       "import scala.collection.mutable\n",
       "map: scala.collection.mutable.Map[String,AnyVal] = Map()\n"
      ]
     },
     "execution_count": 46,
     "metadata": {},
     "output_type": "execute_result"
    }
   ],
   "source": [
    "import scala.collection.mutable\n",
    "\n",
    "val map = mutable.Map[String, AnyVal]()"
   ]
  },
  {
   "cell_type": "code",
   "execution_count": 47,
   "metadata": {
    "ExecuteTime": {
     "end_time": "2019-11-16T17:37:30.579987Z",
     "start_time": "2019-11-16T17:37:30.440378Z"
    }
   },
   "outputs": [],
   "source": [
    "map(\"id\") = 1"
   ]
  },
  {
   "cell_type": "code",
   "execution_count": 48,
   "metadata": {
    "ExecuteTime": {
     "end_time": "2019-11-16T17:37:30.771573Z",
     "start_time": "2019-11-16T17:37:30.582212Z"
    }
   },
   "outputs": [
    {
     "data": {
      "text/plain": [
       "res38: map.type = Map(age -> 4, id -> 1)\n"
      ]
     },
     "execution_count": 48,
     "metadata": {},
     "output_type": "execute_result"
    }
   ],
   "source": [
    "map += (\"age\" -> 4)"
   ]
  },
  {
   "cell_type": "code",
   "execution_count": 49,
   "metadata": {
    "ExecuteTime": {
     "end_time": "2019-11-16T17:37:30.910135Z",
     "start_time": "2019-11-16T17:37:30.773802Z"
    }
   },
   "outputs": [
    {
     "data": {
      "text/plain": [
       "res39: Option[AnyVal] = None\n"
      ]
     },
     "execution_count": 49,
     "metadata": {},
     "output_type": "execute_result"
    }
   ],
   "source": [
    "map.put(\"active\", true)"
   ]
  },
  {
   "cell_type": "code",
   "execution_count": 50,
   "metadata": {
    "ExecuteTime": {
     "end_time": "2019-11-16T17:37:31.084662Z",
     "start_time": "2019-11-16T17:37:30.912641Z"
    }
   },
   "outputs": [
    {
     "data": {
      "text/plain": [
       "res40: Any = true\n"
      ]
     },
     "execution_count": 50,
     "metadata": {},
     "output_type": "execute_result"
    }
   ],
   "source": [
    "map.getOrElse(\"active\", null)"
   ]
  },
  {
   "cell_type": "code",
   "execution_count": 51,
   "metadata": {
    "ExecuteTime": {
     "end_time": "2019-11-16T17:37:31.222915Z",
     "start_time": "2019-11-16T17:37:31.087105Z"
    }
   },
   "outputs": [
    {
     "data": {
      "text/plain": [
       "res41: Boolean = false\n"
      ]
     },
     "execution_count": 51,
     "metadata": {},
     "output_type": "execute_result"
    }
   ],
   "source": [
    "map.isEmpty"
   ]
  },
  {
   "cell_type": "code",
   "execution_count": 52,
   "metadata": {
    "ExecuteTime": {
     "end_time": "2019-11-16T17:37:31.367974Z",
     "start_time": "2019-11-16T17:37:31.225172Z"
    }
   },
   "outputs": [
    {
     "data": {
      "text/plain": [
       "res42: Iterable[String] = Set(active, age, id)\n"
      ]
     },
     "execution_count": 52,
     "metadata": {},
     "output_type": "execute_result"
    }
   ],
   "source": [
    "map.keys"
   ]
  },
  {
   "cell_type": "code",
   "execution_count": 53,
   "metadata": {
    "ExecuteTime": {
     "end_time": "2019-11-16T17:37:31.528368Z",
     "start_time": "2019-11-16T17:37:31.370432Z"
    }
   },
   "outputs": [
    {
     "data": {
      "text/plain": [
       "res43: Boolean = true\n"
      ]
     },
     "execution_count": 53,
     "metadata": {},
     "output_type": "execute_result"
    }
   ],
   "source": [
    "map contains \"id\""
   ]
  },
  {
   "cell_type": "code",
   "execution_count": 54,
   "metadata": {
    "ExecuteTime": {
     "end_time": "2019-11-16T17:37:31.662916Z",
     "start_time": "2019-11-16T17:37:31.530431Z"
    }
   },
   "outputs": [
    {
     "data": {
      "text/plain": [
       "res44: Int = 3\n"
      ]
     },
     "execution_count": 54,
     "metadata": {},
     "output_type": "execute_result"
    }
   ],
   "source": [
    "map.size"
   ]
  },
  {
   "cell_type": "code",
   "execution_count": 55,
   "metadata": {
    "ExecuteTime": {
     "end_time": "2019-11-16T17:37:31.804590Z",
     "start_time": "2019-11-16T17:37:31.665668Z"
    }
   },
   "outputs": [
    {
     "data": {
      "text/plain": [
       "res45: Iterable[AnyVal] = HashMap(true, 4, 1)\n"
      ]
     },
     "execution_count": 55,
     "metadata": {},
     "output_type": "execute_result"
    }
   ],
   "source": [
    "map.values"
   ]
  },
  {
   "cell_type": "code",
   "execution_count": 56,
   "metadata": {
    "ExecuteTime": {
     "end_time": "2019-11-16T17:37:31.941555Z",
     "start_time": "2019-11-16T17:37:31.808131Z"
    }
   },
   "outputs": [],
   "source": [
    "map.clear"
   ]
  },
  {
   "cell_type": "code",
   "execution_count": 57,
   "metadata": {
    "ExecuteTime": {
     "end_time": "2019-11-16T17:37:32.070401Z",
     "start_time": "2019-11-16T17:37:31.943703Z"
    }
   },
   "outputs": [
    {
     "data": {
      "text/plain": [
       "res47: scala.collection.mutable.Map[String,AnyVal] = Map()\n"
      ]
     },
     "execution_count": 57,
     "metadata": {},
     "output_type": "execute_result"
    }
   ],
   "source": [
    "map"
   ]
  },
  {
   "cell_type": "markdown",
   "metadata": {},
   "source": [
    "##### Lambda Expressions "
   ]
  },
  {
   "cell_type": "markdown",
   "metadata": {},
   "source": [
    "**Map Method**\n",
    "- Map method is a for kind iterator function that takes variable(s), transform each o parameter in each iteration and return the result as stream list"
   ]
  },
  {
   "cell_type": "code",
   "execution_count": 58,
   "metadata": {
    "ExecuteTime": {
     "end_time": "2019-11-16T17:37:32.257400Z",
     "start_time": "2019-11-16T17:37:32.072881Z"
    }
   },
   "outputs": [
    {
     "data": {
      "text/plain": [
       "l: List[Int] = List(1, 2, 3, 4, 5)\n"
      ]
     },
     "execution_count": 58,
     "metadata": {},
     "output_type": "execute_result"
    }
   ],
   "source": [
    "val l = List[Int](1, 2, 3, 4, 5)"
   ]
  },
  {
   "cell_type": "code",
   "execution_count": 59,
   "metadata": {
    "ExecuteTime": {
     "end_time": "2019-11-16T17:37:32.527457Z",
     "start_time": "2019-11-16T17:37:32.259912Z"
    }
   },
   "outputs": [
    {
     "data": {
      "text/plain": [
       "res48: List[Int] = List(1, 3, 5, 7, 9)\n"
      ]
     },
     "execution_count": 59,
     "metadata": {},
     "output_type": "execute_result"
    }
   ],
   "source": [
    "l.map(k => k * 2).map(i => i - 1)"
   ]
  },
  {
   "cell_type": "code",
   "execution_count": 60,
   "metadata": {
    "ExecuteTime": {
     "end_time": "2019-11-16T17:37:32.785273Z",
     "start_time": "2019-11-16T17:37:32.533708Z"
    }
   },
   "outputs": [
    {
     "data": {
      "text/plain": [
       "m: scala.collection.immutable.Map[String,Int] = Map(id -> 1, age -> 12)\n"
      ]
     },
     "execution_count": 60,
     "metadata": {},
     "output_type": "execute_result"
    }
   ],
   "source": [
    "val m = Map(\"id\" -> 1, \"age\" -> 12)"
   ]
  },
  {
   "cell_type": "code",
   "execution_count": 61,
   "metadata": {
    "ExecuteTime": {
     "end_time": "2019-11-16T17:37:32.922439Z",
     "start_time": "2019-11-16T17:37:32.787405Z"
    }
   },
   "outputs": [
    {
     "data": {
      "text/plain": [
       "res49: scala.collection.immutable.Map[String,Int] = Map(id -> 1, age -> 12)\n"
      ]
     },
     "execution_count": 61,
     "metadata": {},
     "output_type": "execute_result"
    }
   ],
   "source": [
    "m"
   ]
  },
  {
   "cell_type": "code",
   "execution_count": 62,
   "metadata": {
    "ExecuteTime": {
     "end_time": "2019-11-16T17:37:33.134502Z",
     "start_time": "2019-11-16T17:37:32.924074Z"
    }
   },
   "outputs": [
    {
     "data": {
      "text/plain": [
       "res50: scala.collection.immutable.Iterable[String] = List(id, age)\n"
      ]
     },
     "execution_count": 62,
     "metadata": {},
     "output_type": "execute_result"
    }
   ],
   "source": [
    "m.map(i => i._1)"
   ]
  },
  {
   "cell_type": "code",
   "execution_count": 63,
   "metadata": {
    "ExecuteTime": {
     "end_time": "2019-11-16T17:37:33.355477Z",
     "start_time": "2019-11-16T17:37:33.141185Z"
    }
   },
   "outputs": [
    {
     "data": {
      "text/plain": [
       "res51: scala.collection.immutable.Iterable[Int] = List(1, 12)\n"
      ]
     },
     "execution_count": 63,
     "metadata": {},
     "output_type": "execute_result"
    }
   ],
   "source": [
    "m.map(i => i._2)"
   ]
  },
  {
   "cell_type": "markdown",
   "metadata": {},
   "source": [
    "**Filter Method**\n",
    "- Filter method is a for kind iterator function that takes variable(s), apply boolean filter on each parameter and return the response as subset of input list"
   ]
  },
  {
   "cell_type": "code",
   "execution_count": 64,
   "metadata": {
    "ExecuteTime": {
     "end_time": "2019-11-16T17:37:33.533897Z",
     "start_time": "2019-11-16T17:37:33.357732Z"
    }
   },
   "outputs": [
    {
     "data": {
      "text/plain": [
       "l: List[Int] = List(1, 2, 3, 4, 5)\n"
      ]
     },
     "execution_count": 64,
     "metadata": {},
     "output_type": "execute_result"
    }
   ],
   "source": [
    "val l = List[Int](1, 2, 3, 4, 5)"
   ]
  },
  {
   "cell_type": "code",
   "execution_count": 65,
   "metadata": {
    "ExecuteTime": {
     "end_time": "2019-11-16T17:37:33.706760Z",
     "start_time": "2019-11-16T17:37:33.536032Z"
    }
   },
   "outputs": [
    {
     "data": {
      "text/plain": [
       "res52: List[Int] = List(3, 4, 5)\n"
      ]
     },
     "execution_count": 65,
     "metadata": {},
     "output_type": "execute_result"
    }
   ],
   "source": [
    "l.filter(k => k > 2)"
   ]
  },
  {
   "cell_type": "code",
   "execution_count": 66,
   "metadata": {
    "ExecuteTime": {
     "end_time": "2019-11-16T17:37:33.903475Z",
     "start_time": "2019-11-16T17:37:33.708840Z"
    }
   },
   "outputs": [
    {
     "data": {
      "text/plain": [
       "m: scala.collection.immutable.Map[String,Int] = Map(id -> 1, age -> 12)\n"
      ]
     },
     "execution_count": 66,
     "metadata": {},
     "output_type": "execute_result"
    }
   ],
   "source": [
    "val m = Map(\"id\" -> 1, \"age\" -> 12)"
   ]
  },
  {
   "cell_type": "code",
   "execution_count": 67,
   "metadata": {
    "ExecuteTime": {
     "end_time": "2019-11-16T17:37:34.095707Z",
     "start_time": "2019-11-16T17:37:33.905994Z"
    }
   },
   "outputs": [
    {
     "data": {
      "text/plain": [
       "res53: scala.collection.immutable.Map[String,Int] = Map(age -> 12)\n"
      ]
     },
     "execution_count": 67,
     "metadata": {},
     "output_type": "execute_result"
    }
   ],
   "source": [
    "m.filter(i => i._2 != 1)"
   ]
  },
  {
   "cell_type": "markdown",
   "metadata": {},
   "source": [
    "**Reduce Method**\n",
    "- Reduce method is a for kind iterator function that takes variable(s), apply aggregation operations which defined in method and return the result as variable"
   ]
  },
  {
   "cell_type": "code",
   "execution_count": 68,
   "metadata": {
    "ExecuteTime": {
     "end_time": "2019-11-16T17:37:34.400715Z",
     "start_time": "2019-11-16T17:37:34.102358Z"
    }
   },
   "outputs": [
    {
     "data": {
      "text/plain": [
       "l: List[Int] = List(1, 2, 3, 4, 5)\n"
      ]
     },
     "execution_count": 68,
     "metadata": {},
     "output_type": "execute_result"
    }
   ],
   "source": [
    "val l = List[Int](1, 2, 3, 4, 5)"
   ]
  },
  {
   "cell_type": "code",
   "execution_count": 69,
   "metadata": {
    "ExecuteTime": {
     "end_time": "2019-11-16T17:37:34.713012Z",
     "start_time": "2019-11-16T17:37:34.404681Z"
    }
   },
   "outputs": [
    {
     "data": {
      "text/plain": [
       "res54: Int = 5\n"
      ]
     },
     "execution_count": 69,
     "metadata": {},
     "output_type": "execute_result"
    }
   ],
   "source": [
    "l.reduce((l, r) => l max r)"
   ]
  },
  {
   "cell_type": "code",
   "execution_count": 70,
   "metadata": {
    "ExecuteTime": {
     "end_time": "2019-11-16T17:37:34.981995Z",
     "start_time": "2019-11-16T17:37:34.714896Z"
    }
   },
   "outputs": [
    {
     "data": {
      "text/plain": [
       "res55: Int = 15\n"
      ]
     },
     "execution_count": 70,
     "metadata": {},
     "output_type": "execute_result"
    }
   ],
   "source": [
    "l.reduce((l, r) => l + r)"
   ]
  },
  {
   "cell_type": "markdown",
   "metadata": {},
   "source": [
    "**Chaining**\n",
    "- You can combine lambda expressions and create a chain function"
   ]
  },
  {
   "cell_type": "code",
   "execution_count": 71,
   "metadata": {
    "ExecuteTime": {
     "end_time": "2019-11-16T17:37:35.186802Z",
     "start_time": "2019-11-16T17:37:34.984050Z"
    }
   },
   "outputs": [
    {
     "data": {
      "text/plain": [
       "l: List[Int] = List(1, 2, 3, 4, 5, 6, 7)\n"
      ]
     },
     "execution_count": 71,
     "metadata": {},
     "output_type": "execute_result"
    }
   ],
   "source": [
    "val l = List[Int](1, 2, 3, 4, 5, 6, 7)"
   ]
  },
  {
   "cell_type": "code",
   "execution_count": 72,
   "metadata": {
    "ExecuteTime": {
     "end_time": "2019-11-16T17:37:35.383488Z",
     "start_time": "2019-11-16T17:37:35.189009Z"
    }
   },
   "outputs": [
    {
     "data": {
      "text/plain": [
       "max: Int = 14\n"
      ]
     },
     "execution_count": 72,
     "metadata": {},
     "output_type": "execute_result"
    }
   ],
   "source": [
    "val max = l.filter(i => i % 2 != 0)\n",
    "   .map(k => k * 2)\n",
    "   .reduce((l, r) => l max r)"
   ]
  },
  {
   "cell_type": "code",
   "execution_count": 73,
   "metadata": {
    "ExecuteTime": {
     "end_time": "2019-11-16T17:37:35.577345Z",
     "start_time": "2019-11-16T17:37:35.386354Z"
    }
   },
   "outputs": [
    {
     "data": {
      "text/plain": [
       "d: List[Double] = List(0.1, 0.2, 0.3, 0.4, 1.0)\n"
      ]
     },
     "execution_count": 73,
     "metadata": {},
     "output_type": "execute_result"
    }
   ],
   "source": [
    "val d = List[Double](.1, .2, .3, .4, 1)"
   ]
  },
  {
   "cell_type": "code",
   "execution_count": 74,
   "metadata": {
    "ExecuteTime": {
     "end_time": "2019-11-16T17:37:35.811427Z",
     "start_time": "2019-11-16T17:37:35.579003Z"
    }
   },
   "outputs": [
    {
     "data": {
      "text/plain": [
       "res56: scala.collection.immutable.Seq[Double] = List(0.04000000000000001, 0.06000000000000001, 0.08000000000000002, 0.1, 0.22000000000000003)\n"
      ]
     },
     "execution_count": 74,
     "metadata": {},
     "output_type": "execute_result"
    }
   ],
   "source": [
    "d.map(i => i + .1).map(a => a * .2).toSeq"
   ]
  },
  {
   "cell_type": "markdown",
   "metadata": {},
   "source": [
    "#### Method Definition"
   ]
  },
  {
   "cell_type": "code",
   "execution_count": 75,
   "metadata": {
    "ExecuteTime": {
     "end_time": "2019-11-16T17:37:35.950924Z",
     "start_time": "2019-11-16T17:37:35.815453Z"
    }
   },
   "outputs": [
    {
     "data": {
      "text/plain": [
       "sum: (a: Int, b: Int)Int\n"
      ]
     },
     "execution_count": 75,
     "metadata": {},
     "output_type": "execute_result"
    }
   ],
   "source": [
    "def sum(a: Int, b: Int): Int = a + b "
   ]
  },
  {
   "cell_type": "code",
   "execution_count": 76,
   "metadata": {
    "ExecuteTime": {
     "end_time": "2019-11-16T17:37:36.071196Z",
     "start_time": "2019-11-16T17:37:35.953693Z"
    }
   },
   "outputs": [
    {
     "data": {
      "text/plain": [
       "res57: Int = 7\n"
      ]
     },
     "execution_count": 76,
     "metadata": {},
     "output_type": "execute_result"
    }
   ],
   "source": [
    "sum(3, 4)"
   ]
  },
  {
   "cell_type": "code",
   "execution_count": 77,
   "metadata": {
    "ExecuteTime": {
     "end_time": "2019-11-16T17:37:36.196582Z",
     "start_time": "2019-11-16T17:37:36.072789Z"
    }
   },
   "outputs": [
    {
     "data": {
      "text/plain": [
       "pow: (a: Int, b: Int)Double\n"
      ]
     },
     "execution_count": 77,
     "metadata": {},
     "output_type": "execute_result"
    }
   ],
   "source": [
    "def pow(a: Int, b: Int = 2): Double = Math.pow(a, b)"
   ]
  },
  {
   "cell_type": "code",
   "execution_count": 78,
   "metadata": {
    "ExecuteTime": {
     "end_time": "2019-11-16T17:37:36.336751Z",
     "start_time": "2019-11-16T17:37:36.198724Z"
    }
   },
   "outputs": [
    {
     "data": {
      "text/plain": [
       "res58: Double = 9.0\n"
      ]
     },
     "execution_count": 78,
     "metadata": {},
     "output_type": "execute_result"
    }
   ],
   "source": [
    "pow(3)"
   ]
  },
  {
   "cell_type": "code",
   "execution_count": 79,
   "metadata": {
    "ExecuteTime": {
     "end_time": "2019-11-16T17:37:36.444256Z",
     "start_time": "2019-11-16T17:37:36.339411Z"
    }
   },
   "outputs": [
    {
     "data": {
      "text/plain": [
       "number: Int = 3\n"
      ]
     },
     "execution_count": 79,
     "metadata": {},
     "output_type": "execute_result"
    }
   ],
   "source": [
    "implicit val number: Int = 3"
   ]
  },
  {
   "cell_type": "code",
   "execution_count": 80,
   "metadata": {
    "ExecuteTime": {
     "end_time": "2019-11-16T17:37:36.581972Z",
     "start_time": "2019-11-16T17:37:36.446478Z"
    }
   },
   "outputs": [
    {
     "data": {
      "text/plain": [
       "sum: (a: Int, b: Int)(implicit n: Int)Int\n"
      ]
     },
     "execution_count": 80,
     "metadata": {},
     "output_type": "execute_result"
    }
   ],
   "source": [
    "def sum(a: Int, b: Int)(implicit n:Int): Int = a + b + n"
   ]
  },
  {
   "cell_type": "code",
   "execution_count": 81,
   "metadata": {
    "ExecuteTime": {
     "end_time": "2019-11-16T17:37:36.712325Z",
     "start_time": "2019-11-16T17:37:36.585535Z"
    }
   },
   "outputs": [
    {
     "data": {
      "text/plain": [
       "res59: Int = 12\n"
      ]
     },
     "execution_count": 81,
     "metadata": {},
     "output_type": "execute_result"
    }
   ],
   "source": [
    "sum(4, 5)"
   ]
  },
  {
   "cell_type": "code",
   "execution_count": 82,
   "metadata": {
    "ExecuteTime": {
     "end_time": "2019-11-16T17:37:36.834020Z",
     "start_time": "2019-11-16T17:37:36.714771Z"
    }
   },
   "outputs": [
    {
     "data": {
      "text/plain": [
       "size: (a: Int*)Int\n"
      ]
     },
     "execution_count": 82,
     "metadata": {},
     "output_type": "execute_result"
    }
   ],
   "source": [
    "def size(a: Int*): Int = a.length"
   ]
  },
  {
   "cell_type": "code",
   "execution_count": 83,
   "metadata": {
    "ExecuteTime": {
     "end_time": "2019-11-16T17:37:37.006905Z",
     "start_time": "2019-11-16T17:37:36.840765Z"
    }
   },
   "outputs": [
    {
     "data": {
      "text/plain": [
       "res60: Int = 4\n"
      ]
     },
     "execution_count": 83,
     "metadata": {},
     "output_type": "execute_result"
    }
   ],
   "source": [
    "size(0, 1, 2, 3)"
   ]
  }
 ],
 "metadata": {
  "kernelspec": {
   "display_name": "spylon-kernel",
   "language": "scala",
   "name": "spylon-kernel"
  },
  "language_info": {
   "codemirror_mode": "text/x-scala",
   "file_extension": ".scala",
   "help_links": [
    {
     "text": "MetaKernel Magics",
     "url": "https://metakernel.readthedocs.io/en/latest/source/README.html"
    }
   ],
   "mimetype": "text/x-scala",
   "name": "scala",
   "pygments_lexer": "scala",
   "version": "0.4.1"
  },
  "toc": {
   "base_numbering": 1,
   "nav_menu": {},
   "number_sections": true,
   "sideBar": true,
   "skip_h1_title": false,
   "title_cell": "Table of Contents",
   "title_sidebar": "Contents",
   "toc_cell": false,
   "toc_position": {},
   "toc_section_display": true,
   "toc_window_display": false
  }
 },
 "nbformat": 4,
 "nbformat_minor": 2
}
